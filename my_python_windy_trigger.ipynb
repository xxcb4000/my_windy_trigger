{
 "cells": [
  {
   "cell_type": "code",
   "execution_count": 4,
   "id": "f3ed4e4b",
   "metadata": {},
   "outputs": [],
   "source": [
    "import requests\n",
    "import os\n",
    "from datetime import datetime\n",
    "from collections import defaultdict\n",
    "\n",
    "# Coordonnées pour Liège\n",
    "lat = 50.6333\n",
    "lon = 5.5667\n",
    "\n",
    "url = f\"http://api.openweathermap.org/data/2.5/forecast?lat={lat}&lon={lon}&appid={api_key}&units=metric\"\n",
    "\n",
    "response = requests.get(url)\n",
    "data = response.json()\n"
   ]
  },
  {
   "cell_type": "code",
   "execution_count": null,
   "id": "1034e77b",
   "metadata": {},
   "outputs": [
    {
     "name": "stdout",
     "output_type": "stream",
     "text": [
      "{'dt': 1749416400, 'main': {'temp': 14.42, 'feels_like': 13.33, 'temp_min': 12.35, 'temp_max': 14.42, 'pressure': 1021, 'sea_level': 1021, 'grnd_level': 1002, 'humidity': 54, 'temp_kf': 2.07}, 'weather': [{'id': 802, 'main': 'Clouds', 'description': 'scattered clouds', 'icon': '03n'}], 'clouds': {'all': 27}, 'wind': {'speed': 2.21, 'deg': 237, 'gust': 2.71}, 'visibility': 10000, 'pop': 0, 'sys': {'pod': 'n'}, 'dt_txt': '2025-06-08 21:00:00'}\n",
      "{'speed': 2.21, 'deg': 237, 'gust': 2.71}\n",
      "7.956\n",
      "Windspeed : 7.96 km/h. Datetime :  2025-06-08 21:00:00\n",
      "Windspeed : 10.48 km/h. Datetime :  2025-06-09 00:00:00\n",
      "Windspeed : 10.91 km/h. Datetime :  2025-06-09 03:00:00\n",
      "Windspeed : 14.8 km/h. Datetime :  2025-06-09 06:00:00\n",
      "Windspeed : 16.16 km/h. Datetime :  2025-06-09 09:00:00\n",
      "Windspeed : 15.66 km/h. Datetime :  2025-06-09 12:00:00\n",
      "Windspeed : 12.46 km/h. Datetime :  2025-06-09 15:00:00\n",
      "Windspeed : 9.72 km/h. Datetime :  2025-06-09 18:00:00\n",
      "Windspeed : 9.79 km/h. Datetime :  2025-06-09 21:00:00\n",
      "Windspeed : 8.6 km/h. Datetime :  2025-06-10 00:00:00\n",
      "Windspeed : 9.29 km/h. Datetime :  2025-06-10 03:00:00\n",
      "Windspeed : 14.98 km/h. Datetime :  2025-06-10 06:00:00\n",
      "Windspeed : 21.1 km/h. Datetime :  2025-06-10 09:00:00\n",
      "Windspeed : 21.31 km/h. Datetime :  2025-06-10 12:00:00\n",
      "Windspeed : 15.88 km/h. Datetime :  2025-06-10 15:00:00\n",
      "Windspeed : 8.96 km/h. Datetime :  2025-06-10 18:00:00\n",
      "Windspeed : 4.28 km/h. Datetime :  2025-06-10 21:00:00\n",
      "Windspeed : 1.51 km/h. Datetime :  2025-06-11 00:00:00\n",
      "Windspeed : 2.34 km/h. Datetime :  2025-06-11 03:00:00\n",
      "Windspeed : 3.71 km/h. Datetime :  2025-06-11 06:00:00\n",
      "Windspeed : 7.96 km/h. Datetime :  2025-06-11 09:00:00\n",
      "Windspeed : 13.18 km/h. Datetime :  2025-06-11 12:00:00\n",
      "Windspeed : 11.7 km/h. Datetime :  2025-06-11 15:00:00\n",
      "Windspeed : 14.15 km/h. Datetime :  2025-06-11 18:00:00\n",
      "Windspeed : 11.23 km/h. Datetime :  2025-06-11 21:00:00\n",
      "Windspeed : 7.88 km/h. Datetime :  2025-06-12 00:00:00\n",
      "Windspeed : 8.32 km/h. Datetime :  2025-06-12 03:00:00\n",
      "Windspeed : 9.43 km/h. Datetime :  2025-06-12 06:00:00\n",
      "Windspeed : 15.73 km/h. Datetime :  2025-06-12 09:00:00\n",
      "Windspeed : 18.11 km/h. Datetime :  2025-06-12 12:00:00\n",
      "Windspeed : 12.31 km/h. Datetime :  2025-06-12 15:00:00\n",
      "Windspeed : 11.38 km/h. Datetime :  2025-06-12 18:00:00\n",
      "Windspeed : 6.48 km/h. Datetime :  2025-06-12 21:00:00\n",
      "Windspeed : 4.79 km/h. Datetime :  2025-06-13 00:00:00\n",
      "Windspeed : 5.72 km/h. Datetime :  2025-06-13 03:00:00\n",
      "Windspeed : 4.82 km/h. Datetime :  2025-06-13 06:00:00\n",
      "Windspeed : 10.66 km/h. Datetime :  2025-06-13 09:00:00\n",
      "Windspeed : 9.61 km/h. Datetime :  2025-06-13 12:00:00\n",
      "Windspeed : 8.28 km/h. Datetime :  2025-06-13 15:00:00\n",
      "Windspeed : 7.31 km/h. Datetime :  2025-06-13 18:00:00\n"
     ]
    }
   ],
   "source": [
    "data\n",
    "\n",
    "\n",
    "for dt in range(0, len(data['list']), 1):\n",
    "    print('Windspeed :', round(data['list'][dt]['wind']['speed']*3600/1000, 2), 'km/h. Datetime : ', data['list'][dt]['dt_txt'])\n",
    "\n"
   ]
  }
 ],
 "metadata": {
  "kernelspec": {
   "display_name": "VinceEnviro",
   "language": "python",
   "name": "python3"
  },
  "language_info": {
   "codemirror_mode": {
    "name": "ipython",
    "version": 3
   },
   "file_extension": ".py",
   "mimetype": "text/x-python",
   "name": "python",
   "nbconvert_exporter": "python",
   "pygments_lexer": "ipython3",
   "version": "3.11.11"
  }
 },
 "nbformat": 4,
 "nbformat_minor": 5
}
